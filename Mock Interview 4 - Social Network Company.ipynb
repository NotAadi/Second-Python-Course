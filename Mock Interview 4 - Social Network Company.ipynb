{
 "cells": [
  {
   "cell_type": "markdown",
   "metadata": {},
   "source": [
    "# Phone Screen"
   ]
  },
  {
   "cell_type": "markdown",
   "metadata": {},
   "source": [
    "### Problem\n",
    "Remove duplicate characters in a given string, keeping only the first occurences. For example, if the input is 'tree traversal', the output will be 'tre avsl'."
   ]
  },
  {
   "cell_type": "markdown",
   "metadata": {},
   "source": [
    "### Requirements\n",
    "Complete in a text editor without syntax highlighting, like in a markdown cell"
   ]
  },
  {
   "cell_type": "markdown",
   "metadata": {},
   "source": [
    "### My solution"
   ]
  },
  {
   "cell_type": "raw",
   "metadata": {},
   "source": [
    "def remove_duplicates(s):\n",
    "    r = ''\n",
    "    for i in s:\n",
    "        if i not in r:\n",
    "            r += i\n",
    "    return r"
   ]
  },
  {
   "cell_type": "markdown",
   "metadata": {},
   "source": [
    "### Correct Solution\n",
    "To solve this, we will need a data structure which can store the items we have already seen so far and perform efficient find operations on - in this case, a set data structure suits our purpose very well. It stores keys that provide constant time search for each instance. We will loop over the characters over the string, and we will check if we have seen that character before searching the set. If it is in the set, that means we have seen it before, so we ignore it. Otherwise, we add it to the result and keep it in the set for future reference. Let's code this out:"
   ]
  },
  {
   "cell_type": "code",
   "execution_count": 30,
   "metadata": {},
   "outputs": [],
   "source": [
    "def remove_duplicates(s):\n",
    "    #First, we have our result list of string characters\n",
    "    result = []\n",
    "    #Here, we create a set of all the things we have seen before\n",
    "    seen = set()\n",
    "    \n",
    "    #Now, we iterate through the string and add things to the seen set\n",
    "    for char in s:\n",
    "        #This checks if the character has not been seen yet and thus has not been added\n",
    "        #to the result list yet\n",
    "        if char not in seen:\n",
    "            seen.add(char)\n",
    "            result.append(char)\n",
    "    \n",
    "    #Here, we return a string of all the result items joined together into one\n",
    "    return ''.join(result)"
   ]
  },
  {
   "cell_type": "markdown",
   "metadata": {},
   "source": [
    "The reason that this solution is better than My solution is because My solution checks if an item is inside a string - the in operator runs in O(n) time, so our solution is actually a lot worse than O(n). However, in this solution, it checks if an item is in a set - sets allow for you to check if items are in them in O(1) time, or constant time."
   ]
  },
  {
   "cell_type": "markdown",
   "metadata": {},
   "source": [
    "# On-Site Question 1"
   ]
  },
  {
   "cell_type": "markdown",
   "metadata": {},
   "source": [
    "### Problem\n",
    "Given a list of integers and a target number, write a function that returns a boolean indicating if its possible to sum two integers from the list to reach the target number"
   ]
  },
  {
   "cell_type": "markdown",
   "metadata": {},
   "source": [
    "### Requirements\n",
    "Try pen and paper before coding out your solution<br>\n",
    "You cannot use an integer element twice<br>\n",
    "Optimize for time over space<br>"
   ]
  },
  {
   "cell_type": "markdown",
   "metadata": {},
   "source": [
    "### Solution"
   ]
  },
  {
   "cell_type": "code",
   "execution_count": 16,
   "metadata": {},
   "outputs": [],
   "source": [
    "def isSum(nums,target):\n",
    "    \n",
    "    for num in range(len(nums)):\n",
    "        if target - nums[num] in (nums[:num] + nums[num+1:]):\n",
    "            return True\n",
    "    return False"
   ]
  },
  {
   "cell_type": "code",
   "execution_count": 21,
   "metadata": {},
   "outputs": [
    {
     "data": {
      "text/plain": [
       "True"
      ]
     },
     "execution_count": 21,
     "metadata": {},
     "output_type": "execute_result"
    }
   ],
   "source": [
    "isSum([3,3],6)"
   ]
  },
  {
   "cell_type": "markdown",
   "metadata": {},
   "source": [
    "### Correct Solution\n",
    "To solve this one, we will use a set data structure. __NOTE: Sets are very very useful data types, but they tend to be overshadowed by things like lists or dictionaries. Do not forget about them!__ What we will do is pass through the list of integers once, and then treat each element as the first integer in our possible sum. Then, at each iteration, then we will check if there is a second integer that will help us hit our target. If we've seen an element in our list, then we add it to the set. Let's look at it coded out now: "
   ]
  },
  {
   "cell_type": "code",
   "execution_count": 1,
   "metadata": {},
   "outputs": [],
   "source": [
    "def isSum(lst,target):\n",
    "    #First, we initialize our set\n",
    "    seen = set()\n",
    "    \n",
    "    #Now, we loop through the list\n",
    "    for num in lst:\n",
    "        \n",
    "        #We create a variable for the number that will be added to the current number to get the target\n",
    "        num2 = target - number\n",
    "        #We check if we have seen such a number\n",
    "        if num2 in seen:\n",
    "            #If we have, that means that there is a pair that can be added to get the target, so we return True\n",
    "            return True\n",
    "        \n",
    "        #We add the number we saw to the set of things we have seen\n",
    "        seen.add(num)\n",
    "    #If none of our numbers have had another number which added with it to get the target, when we must return False    \n",
    "    return False"
   ]
  },
  {
   "cell_type": "markdown",
   "metadata": {},
   "source": [
    "NOTE: Whenever you are keeping track of something for reference, a set is always a good choice in an interview setting because it can be searched at in constant time. "
   ]
  },
  {
   "cell_type": "markdown",
   "metadata": {},
   "source": [
    "# On-Site Question 2"
   ]
  },
  {
   "cell_type": "markdown",
   "metadata": {},
   "source": [
    "### Problem\n",
    "Given a list account ID numbers (integers) which contian duplicates, find the one unique integer (the list is guaranteed to only have one unique (non-duplicated) integer)"
   ]
  },
  {
   "cell_type": "markdown",
   "metadata": {},
   "source": [
    "### Requirements\n",
    "Do not use built in Python functions or methods"
   ]
  },
  {
   "cell_type": "markdown",
   "metadata": {},
   "source": [
    "### Solution"
   ]
  },
  {
   "cell_type": "code",
   "execution_count": 24,
   "metadata": {},
   "outputs": [],
   "source": [
    "def uniqueID(id_list):\n",
    "    \n",
    "    for i in range(len(id_list)):\n",
    "        if id_list[i] not in (id_list[:i]+id_list[i+1:]):\n",
    "            return id_list[i]"
   ]
  },
  {
   "cell_type": "code",
   "execution_count": 27,
   "metadata": {},
   "outputs": [
    {
     "data": {
      "text/plain": [
       "3"
      ]
     },
     "execution_count": 27,
     "metadata": {},
     "output_type": "execute_result"
    }
   ],
   "source": [
    "uniqueID([1,1,2,2,2,3])"
   ]
  },
  {
   "cell_type": "markdown",
   "metadata": {},
   "source": [
    "### Correct Solution\n",
    "To solve this one, we will use an Exclusive Or operation, or [XOR](https://en.wikipedia.org/wiki/Exclusive_or). What it does is returns true when one BUT NOT BOTH of the two bits compared is 1 - otherwise, it returns failse. In python, this is denoted with the ^ (caret) symbol. \n",
    "***\n",
    "NOTE: When you perform a bitwise operation on a number, the output is the operation of each of the bits of the two numbers IN BINARY FORM. For example, when you do 2 ^ 3, you get 1 - this is because 2 is 10 in binary, and 3 is 11 in binary - for the first digit, you would do XOR 1 ^1, which is 0, so the first digit of the output IN BINARY FORM would be 0. For the second digit, we look at the second digits of 11 and 10 - we do XOR 1 ^ 0, which gives 1, so our output is 01 - in base 10, that is 1.\n",
    "***\n",
    "We will use the XOR to do this by doing a XOR operation on all the items in a list, going iteratively in order. This works because of the nature of the XOR operator - if you XOR something by itself, you will get 0, and if you XOR something by 0, you will get that thing. This makes it so that, if you XOR something 2 times (meaning that it is duplicated in the list), the output will be 0 - however, if you only XOR once, you will get an output of that thing - this makes it so that all the things repeated will not affect the outcome - only the thing that is there an odd number of times will be shown. Here is the function:"
   ]
  },
  {
   "cell_type": "code",
   "execution_count": 35,
   "metadata": {},
   "outputs": [],
   "source": [
    "def uniqueID(id_list):\n",
    "    xor_tracker = 0\n",
    "    \n",
    "    for i in id_list:\n",
    "        xor_tracker ^= i\n",
    "        \n",
    "    return xor_tracker"
   ]
  },
  {
   "cell_type": "markdown",
   "metadata": {},
   "source": [
    "# On-Site Question 3"
   ]
  },
  {
   "cell_type": "markdown",
   "metadata": {},
   "source": [
    "### Problem\n",
    "Create a function that takes in a list of unsorted prices (integers) and a maximum possible price value, and return a sorted list of prices"
   ]
  },
  {
   "cell_type": "markdown",
   "metadata": {},
   "source": [
    "### Requirements\n",
    "Your function should be able to do this in less than O(nlogn) time."
   ]
  },
  {
   "cell_type": "markdown",
   "metadata": {},
   "source": [
    "### Solution"
   ]
  },
  {
   "cell_type": "markdown",
   "metadata": {},
   "source": [
    "I would just run a merge sort on this list. Merge sort works by recursively splitting a list in half. If the list is empty or has one item, it is already sorted - that is our base / edge case. If it has more than one items, then you can split it again and do a recursive call on the halves. When both halves are sorted, the two are merged together into one sorted list."
   ]
  },
  {
   "cell_type": "markdown",
   "metadata": {},
   "source": [
    "### Correct Solution\n",
    "\n",
    "To solve this, we can use a [Counting Sort](https://en.wikipedia.org/wiki/Counting_sort). Basically, a counting sorts works in several steps:\n",
    "\n",
    "0. Let's have our unsorted list be [1,0,1,2,3,3,3,3,2,2]\n",
    "1. Count the number of occurrences of each unique item in the list - for us, we have 0 appear once, 1 appear twice, 2 appear 3 times and 3 appear 4 times \n",
    "2. Put those numbers into a list , with each index in the list having a value of the number of times that index value appeared in the first list - for us, this list would be [1,2,3,4]\n",
    "3. Create a list to return at the end\n",
    "4. Each value in the list we created in step 2 is the number of times the corresponding index occurs in the list. This means that we can just add that index to the list as many times as is the value associated with the index. For example, in our list, we can add 0 once, 1 twice, 2 thrice and 3 four times. Since these numbers are sorted in our counting list, it will be sorted when we add it back.\n",
    "\n",
    "Now, let's code this out:"
   ]
  },
  {
   "cell_type": "code",
   "execution_count": 36,
   "metadata": {},
   "outputs": [],
   "source": [
    "def soltuion(unsorted_prices,max_price):\n",
    "    \n",
    "    #First, we create a list of empty numbers - the lenght of the list is max_price + 1 because it has to\n",
    "    #go up to the max price. It is +1 because indexing starts at 0\n",
    "    prices_to_counts = [0]*(max_price+1)\n",
    "    \n",
    "    #Step 1 (we are going through the list and counting the number of items for each value)\n",
    "    for price in unsorted_prices:\n",
    "        #Step 2 (we are building out our list by adding the items to the list)\n",
    "        prices_to_counts[price] += 1\n",
    "    \n",
    "    #Step 3 (We create a list of sorted prices to return later)\n",
    "    sorted_prices = []\n",
    "    \n",
    "    #Step 4 (we add the items from the prices_to_counts list into the sorted_prices list as described above)\n",
    "    \n",
    "    #What we do is first use enumerate to turn our list into a tuple of indexes and values (or prices and counts)\n",
    "    for price, count in enumerate(prices_to_counts):\n",
    "        #We put another for loop inside to add the price to the list count number of times\n",
    "        for time in range(count):\n",
    "            sorted_prices.append(price)\n",
    "            \n",
    "    return sorted_prices"
   ]
  },
  {
   "cell_type": "code",
   "execution_count": null,
   "metadata": {},
   "outputs": [],
   "source": []
  }
 ],
 "metadata": {
  "kernelspec": {
   "display_name": "Python 3",
   "language": "python",
   "name": "python3"
  },
  "language_info": {
   "codemirror_mode": {
    "name": "ipython",
    "version": 3
   },
   "file_extension": ".py",
   "mimetype": "text/x-python",
   "name": "python",
   "nbconvert_exporter": "python",
   "pygments_lexer": "ipython3",
   "version": "3.8.8"
  }
 },
 "nbformat": 4,
 "nbformat_minor": 4
}
