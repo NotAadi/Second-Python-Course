{
 "cells": [
  {
   "cell_type": "markdown",
   "metadata": {},
   "source": [
    "# Phone Screen question\n",
    "\n",
    "__Problem__\n",
    "\n",
    "If you were given a list of n integers and knew they were sorted, how quickly could you check if a given item is in the list?\n",
    "\n",
    "__Requirements__ \n",
    "\n",
    "Just try explaining your logic to someone else and see if it makes sense to them"
   ]
  },
  {
   "cell_type": "markdown",
   "metadata": {},
   "source": [
    "### Solution"
   ]
  },
  {
   "cell_type": "markdown",
   "metadata": {},
   "source": [
    "In one step, without using any space, you could use a binary search to find if any given item is in the list in O(log(n)) time. This is faster than using a sequential search (going through every item in the list, one at a time), which is in O(n) time. A binary search works like this - it takes the middle value of a sorted list, and if that value is greater than the amount we are looking for, then we know that we will have to search the first half; this same thing happens when the value is lesser, except we look at the larger half. We then take the middle value of that new section we will look at, and continue the process until we find the item. This is in log(n) time because of how the search works - it splits the items we are looking at in half every time. Because of this, if you double the size of the list, you will only have to do one more separation - that is the definition of log(n). It also works in constant space, as you are looking at a constant number of variables at a given time."
   ]
  },
  {
   "cell_type": "markdown",
   "metadata": {},
   "source": [
    "# On-Site question 1"
   ]
  },
  {
   "cell_type": "markdown",
   "metadata": {},
   "source": [
    "__Problem__\n",
    "\n",
    "Given a list of integers, find the largest product you could make from 3 integers in the list\n",
    "\n",
    "__Requirements__\n",
    "\n",
    "You can assume that the list will always have at least 3 integers\n",
    "\n",
    "Paper/pencil only, don't code this out until you've solved it as far as you can by hand."
   ]
  },
  {
   "cell_type": "markdown",
   "metadata": {},
   "source": [
    "### Solution\n",
    "For this, I would just sort this list using Merge Sort and then take the 3 greatest items and multiply those. That would get me the largest possible product."
   ]
  },
  {
   "cell_type": "markdown",
   "metadata": {},
   "source": [
    "### Correct Solution\n",
    "The solution described above DOES NOT WORK! It doesn't take into account negative numbers, and the fact that two negatives multiply to a positive! The way we will do it is a greedy algorithm, where we will keep track of some numbers. We will keep track of the highest product of 3 numbers so far, the highest product of 2 numbers so far, and the highest number so far. Because we are keeping track of negative numbers, we will also need to keep track of the lowest number and the lowest product of 2 numbers. \n",
    "<br><br>Once we iterate through the list and reach the end, we will have the highest possible product with 3 numbers. At each iteration, we can take the current highets product of 3 and compare it to the curent integer multiplied by the highest and lowest products of two. We can also multiply it with the highest and lowest numbers. Let's look at this coded out:"
   ]
  },
  {
   "cell_type": "code",
   "execution_count": 46,
   "metadata": {},
   "outputs": [],
   "source": [
    "#Solution function takes in a list\n",
    "def solution(lst):\n",
    "\n",
    "    #We set variables high and low, or the highest and lowest numbers so far. We will assign  \n",
    "    #high and low based on the highest and lowest items so far, starting at the first two items.\n",
    "    high = max(lst[0],lst[1])\n",
    "    low = min(lst[0],lst[1])\n",
    "    \n",
    "    #We set a variable for the highest and lowest products of two numbers. By default, they will\n",
    "    #be set as the product of the first two numbers.\n",
    "    high_prod2 = lst[0]*lst[1]\n",
    "    low_prod2 = lst[0]*lst[1]\n",
    "    \n",
    "    #We will set a variable for the highest product of 3 numbers, which will start as the product\n",
    "    #of the first 3 numbers.\n",
    "    high_prod3 = lst[0]*lst[1]*lst[2]\n",
    "    \n",
    "    #Now, we iterate through our list and start at index 2, or the third element\n",
    "    for num in lst[2:]:\n",
    "        \n",
    "        #First thing we do is check if we have a new highest product of 3 by seeing if our current\n",
    "        #item times the highest and lowest product of 2 is greater than the highest product of 3\n",
    "        high_prod3 = max(high_prod3, num * high_prod2, num * low_prod2)\n",
    "        \n",
    "        #Next, we check if there is a new highest product of 2 by comparing the current high prod \n",
    "        #with other possible highest products\n",
    "        high_prod2 = max(high_prod2, num * high, num * low)\n",
    "        \n",
    "        #We do a similar thing for the low prod:\n",
    "        low_prod2 = min(low_prod2, num * high, num * low)\n",
    "        \n",
    "        #Now, we check if we have a new high or a new low\n",
    "        high = max(high,num)\n",
    "        low = min(low,num)\n",
    "        \n",
    "    #Now, we return the highest product of 3\n",
    "    return high_prod3"
   ]
  },
  {
   "cell_type": "code",
   "execution_count": 47,
   "metadata": {},
   "outputs": [
    {
     "data": {
      "text/plain": [
       "315"
      ]
     },
     "execution_count": 47,
     "metadata": {},
     "output_type": "execute_result"
    }
   ],
   "source": [
    "solution([1,2,15,3,7])"
   ]
  },
  {
   "cell_type": "code",
   "execution_count": 48,
   "metadata": {},
   "outputs": [
    {
     "data": {
      "text/plain": [
       "75"
      ]
     },
     "execution_count": 48,
     "metadata": {},
     "output_type": "execute_result"
    }
   ],
   "source": [
    "solution([-5,-5,1,3])"
   ]
  },
  {
   "cell_type": "markdown",
   "metadata": {},
   "source": [
    "# On-Site question 2"
   ]
  },
  {
   "cell_type": "markdown",
   "metadata": {},
   "source": [
    "__Problem__\n",
    "\n",
    "Given a target amount of money and a list of possible coin denominations, return the number of ways that you can make change for the target amount using the coin denomenations. For example, you might have a target amount of 25 and coin denominations of [1 5, 10, 25]\n",
    "\n",
    "__Requirements__\n",
    "\n",
    "Write it out by pencil and paper, then see if you can code out the solution."
   ]
  },
  {
   "cell_type": "markdown",
   "metadata": {},
   "source": [
    "### My Solution\n",
    "For this, I would create a tree of all possible combinations, by going step by step. I would then go through all the paths possible and return the number of unique paths. "
   ]
  },
  {
   "cell_type": "markdown",
   "metadata": {},
   "source": [
    "### Correct Solution"
   ]
  },
  {
   "cell_type": "markdown",
   "metadata": {},
   "source": [
    "We will be using a Bottom-Up algorithm in this situation. To get all the possible sets that add up to a target X which has elements 'a', 'b', and 'c' (our coins), we need to:\n",
    "\n",
    "1. Take all such sets that add up to $X - a$ and add an extra 'a' to each of those sets\n",
    "2. Take all such sets that add up to $X - b$ and add an extra 'b' to each of those sets\n",
    "3. Take all such sets that add up to $X - c$ and add an extra 'c' to each of those sets\n",
    "\n",
    "Think about it this way - the number of ways to get 10 with coins [1,5,10] would be the number of ways to get 9 + number of ways to get 5 + 0, so 4."
   ]
  },
  {
   "cell_type": "code",
   "execution_count": 8,
   "metadata": {},
   "outputs": [],
   "source": [
    "def solution(target, coins):\n",
    "    \n",
    "    #In this array, each item corresponds to the number of ways that item's index\n",
    "    #can be reached using the coins.\n",
    "    arr = [1] + [0] * target\n",
    "    \n",
    "    #Loops through the list of coins\n",
    "    for coin in coins:\n",
    "        #We use the principle detailed above, and the base case that you can only\n",
    "        #get to 0 in 1 way (by using 0). \n",
    "        \n",
    "        #The loop only adds to the indexes in which the coin value fits. Sometimes,\n",
    "        #the value it adds is more than 1. This is because a coin might fit in a \n",
    "        #number more than once. For example, if you are finding the number of \n",
    "        #combos for 12 with coins 1, 5 and 10, you can do 5+1+1+1+1+1+1+1 as well as\n",
    "        #5+5+1+1. Think about it this way - you can do X-5, as well as (X-5)-5 and add\n",
    "        #them both.\n",
    "        for i in range(coin, target + 1):\n",
    "            arr[i] += arr[i-coin]\n",
    "    \n",
    "    #This is an edge case to check if the target is actually 0\n",
    "    if target == 0:\n",
    "        return 0\n",
    "    else:\n",
    "        #Here, it returns the value of combinations at the target in the array\n",
    "        return arr[target]"
   ]
  },
  {
   "cell_type": "code",
   "execution_count": 9,
   "metadata": {},
   "outputs": [
    {
     "data": {
      "text/plain": [
       "4"
      ]
     },
     "execution_count": 9,
     "metadata": {},
     "output_type": "execute_result"
    }
   ],
   "source": [
    "solution(12,[1,5,10])"
   ]
  },
  {
   "cell_type": "code",
   "execution_count": null,
   "metadata": {},
   "outputs": [],
   "source": []
  },
  {
   "cell_type": "markdown",
   "metadata": {},
   "source": [
    "# On-Site question 3"
   ]
  },
  {
   "cell_type": "markdown",
   "metadata": {},
   "source": [
    "__Problem__\n",
    "\n",
    "Given a binary tree, check if it is a binary search tree or not\n",
    "\n",
    "__Requirements__\n",
    "\n",
    "Write it out by pencil and paper, do not code it out until you did it manually. Do not use built in python libraries."
   ]
  },
  {
   "cell_type": "markdown",
   "metadata": {},
   "source": [
    "### My Solution\n",
    "\n",
    "To solve this, I would do a tree traversal of the tree, in any way that I needed. I would create a list of all the parent nodes in the tree. I would then iterate through that list of parent nodes, and check if they follow the BST property, which says that the left item must be less than the parent and the right item must be greater. If they all follow BST property, then it is a BST tree. If it doesn't, then it is not a BST tree:"
   ]
  },
  {
   "cell_type": "code",
   "execution_count": 38,
   "metadata": {},
   "outputs": [],
   "source": [
    "#Defines Binary Tree object\n",
    "class binaryTree(object):\n",
    "    def __init__(self,root):\n",
    "        self.key = root\n",
    "        self.left = None\n",
    "        self.right = None"
   ]
  },
  {
   "cell_type": "code",
   "execution_count": 39,
   "metadata": {},
   "outputs": [],
   "source": [
    "#Creates tree\n",
    "root = binaryTree(5)\n",
    "root.left = binaryTree(4)\n",
    "root.left.left = binaryTree(3)\n",
    "root.left.right = binaryTree(5)\n",
    "root.right = binaryTree(6)\n",
    "root.right.left = binaryTree(5)\n",
    "root.right.right = binaryTree(7)"
   ]
  },
  {
   "cell_type": "code",
   "execution_count": 40,
   "metadata": {},
   "outputs": [],
   "source": [
    "#Iterates through tree and finds parents\n",
    "def iterateTree(root,parents = []):\n",
    "    #If it is a node (if there is actually anything there)\n",
    "    if root:\n",
    "        #Iterate the tree\n",
    "        iterateTree(root.left,parents)\n",
    "        iterateTree(root.right,parents)\n",
    "        \n",
    "        #Check if it is a parent\n",
    "        if root.left != None or root.right != None:\n",
    "            #If it is, then add the root to the list of parents\n",
    "            print(root.key)\n",
    "            parents.append(root)\n",
    "    \n",
    "    #Output the list of parents\n",
    "    return parents"
   ]
  },
  {
   "cell_type": "code",
   "execution_count": 41,
   "metadata": {},
   "outputs": [
    {
     "name": "stdout",
     "output_type": "stream",
     "text": [
      "4\n",
      "6\n",
      "5\n"
     ]
    }
   ],
   "source": [
    "parents = iterateTree(root)"
   ]
  },
  {
   "cell_type": "code",
   "execution_count": 44,
   "metadata": {},
   "outputs": [],
   "source": [
    "#Function to check if all the parents follow the BST property\n",
    "def checkParents(parents):\n",
    "    \n",
    "    #Goes through all the parents\n",
    "    for parent in parents:\n",
    "        \n",
    "        #Checks to see if the left child is greater than the parent - if it is, then the tree is not a BST.\n",
    "        #The reason we use a try statement is because there is a chance that there is no left child.\n",
    "        try:\n",
    "            if parent.left.key > parent.key:\n",
    "                return False\n",
    "        except:\n",
    "            continue\n",
    "            \n",
    "        #Checks to see if the right child is lesser than the parent - if it is, then the tree is not a BST.\n",
    "        try:\n",
    "            if parent.right.key < parent.key:\n",
    "                return False\n",
    "        except:\n",
    "            continue\n",
    "    \n",
    "    #If it hasn't triggered any of the other things, then we know it is a BST, so we return True\n",
    "    return True"
   ]
  },
  {
   "cell_type": "code",
   "execution_count": 45,
   "metadata": {},
   "outputs": [
    {
     "data": {
      "text/plain": [
       "True"
      ]
     },
     "execution_count": 45,
     "metadata": {},
     "output_type": "execute_result"
    }
   ],
   "source": [
    "checkParents(parents)"
   ]
  },
  {
   "cell_type": "markdown",
   "metadata": {},
   "source": [
    "# <font color = 'red'>IMPORTANT NOTE:</font>\n",
    "This above solution is actually incorrect. It is important to note that BST Property not only says that the right child of a node must be greater and the left lesser, it says that the __ENTIRE LEFT SUBTREE__ must be lesser and the __ENTIRE RIGHT SUBTREE__ must be greater. To solve, what we will do is first initialize the Node class:"
   ]
  },
  {
   "cell_type": "code",
   "execution_count": 49,
   "metadata": {},
   "outputs": [],
   "source": [
    "class Node:\n",
    "    def __init__(self, val = None):\n",
    "        self.left = None\n",
    "        self.right = None\n",
    "        self.val = val"
   ]
  },
  {
   "cell_type": "markdown",
   "metadata": {},
   "source": [
    "Now, we know that we need to keep track of the minimum and maximum values a node can take for it to satisfy the BST property. For each node, we will check if its value is within the minimum and maximum value. Note that a node can be from infinity to negative infinity. Let's set our infinity variables:"
   ]
  },
  {
   "cell_type": "code",
   "execution_count": 50,
   "metadata": {},
   "outputs": [],
   "source": [
    "infinity = float('infinity')\n",
    "negative_infinity = float('-infinity')"
   ]
  },
  {
   "cell_type": "markdown",
   "metadata": {},
   "source": [
    "Now, we keep in mind the BST property - for any node, its left child must be less than or equal to its value and the right child must be greater than or equal to its value. To solve, what we will do is recursively go through our tree and send the current value as the new max to our left child and have the minimum stay the same, and with the right child we set the current value as the new min, and have the max not change. Let's create our function here:"
   ]
  },
  {
   "cell_type": "code",
   "execution_count": 52,
   "metadata": {},
   "outputs": [],
   "source": [
    "#Our recursive function takes in the root node as Tree and takes the max and min values as inputs\n",
    "#which default to infinity and negative infinity\n",
    "def isBST(tree, minVal = negative_infinity, maxVal = infinity):\n",
    "    \n",
    "    #Now, we check if the tree is empty (edge case). If the tree got far enough to become empty,\n",
    "    #that means that the subtree we were searching was a BST. Thus, we return True\n",
    "    if tree is None:\n",
    "        return True\n",
    "    \n",
    "    #Now, we check if the tree value fits within the constraints of the minimum and maximum values\n",
    "    if not minVal <= tree.val <= maxVal:\n",
    "        return False\n",
    "    \n",
    "    #Now, we do a recursive call for the left and right children. As described above, the min and\n",
    "    #max values change accordingly.\n",
    "    return isBST(tree.left,minVal,tree.val) and isBst(tree.right,tree.val,maxVal)"
   ]
  },
  {
   "cell_type": "markdown",
   "metadata": {},
   "source": [
    "### _ALTERNATE SOLUTION_\n",
    "\n",
    "If there is no constraint on space complexity, we can use a sneaky rule to solve this, which says that, in a binary search tree, if you do an inorder traversal, you will get the nodes in a sorted order. Let's implement that:\n"
   ]
  },
  {
   "cell_type": "code",
   "execution_count": 53,
   "metadata": {},
   "outputs": [],
   "source": [
    "def isBST2(tree,lastNode = [negative_infinity]):\n",
    "    \n",
    "    #Edge case if the tree is empty\n",
    "    if tree is None:\n",
    "        return True\n",
    "    \n",
    "    #Checks if the isBST2 function on the left node is returning false: if it is,\n",
    "    #that means that it is a BST tree so far. It would return false if the other one\n",
    "    #returned false, creating a chain reaction ending the whole recursion. It would\n",
    "    #actually start returning false because of the next if statement\n",
    "    if not isBST2(tree.left,lastNode):\n",
    "        return False\n",
    "    \n",
    "    #This if statement checks if the tree value is less than the previous item in the\n",
    "    #inorder search - if it goes through, that means that the tree is not a BST\n",
    "    if tree.val < lastNode[0]:\n",
    "        return False\n",
    "    \n",
    "    #This sets the lastNode to the tree value, for further comparisons\n",
    "    lastNode[0] = tree.val\n",
    "    \n",
    "    #This part continues the Inorder search\n",
    "    return isBST2(tree.right,lastNode)"
   ]
  },
  {
   "cell_type": "code",
   "execution_count": null,
   "metadata": {},
   "outputs": [],
   "source": []
  }
 ],
 "metadata": {
  "kernelspec": {
   "display_name": "Python 3",
   "language": "python",
   "name": "python3"
  },
  "language_info": {
   "codemirror_mode": {
    "name": "ipython",
    "version": 3
   },
   "file_extension": ".py",
   "mimetype": "text/x-python",
   "name": "python",
   "nbconvert_exporter": "python",
   "pygments_lexer": "ipython3",
   "version": "3.7.6"
  }
 },
 "nbformat": 4,
 "nbformat_minor": 4
}
