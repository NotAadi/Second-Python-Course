{
 "cells": [
  {
   "cell_type": "markdown",
   "metadata": {},
   "source": [
    "# Stacks, queues and deques overview"
   ]
  },
  {
   "cell_type": "markdown",
   "metadata": {},
   "source": [
    "Stacks, queues and deques are all linear data structures similar to arrays, but different in how they add and remove objects inside of themselves. That will be the main difference in talking about each of the data types. NOw, lets explain stacks:"
   ]
  },
  {
   "cell_type": "markdown",
   "metadata": {},
   "source": [
    "# Stacks"
   ]
  },
  {
   "cell_type": "markdown",
   "metadata": {},
   "source": [
    "Stacks are data types in which the addition of new items and removal of old items occur at the same end. This end is called the top, and the other end is the bottom. This can be compared to a stack of dirty dishes, in which diners will add on to from the top, and dishwashers will clean dishes starting from the start. The base is significant, because items closer to it must have been there for a long time, and the most recently added item must be in the top. THis ordering principle is known as last in, first out, or LIFO. It put things in order of the time it has been in the stack. Stacks are important, as they can be used to reverse the order of items in a list, since the order of insertion is reverse the order of removal. Lets look at an example of how this can be used, by using the built in pop method on stacks:"
   ]
  },
  {
   "cell_type": "code",
   "execution_count": 2,
   "metadata": {},
   "outputs": [],
   "source": [
    "#Origin is the stack that will be pushed onto and then popped off\n",
    "origin = []\n",
    "#Reverse is the stack that will be the reverse of origin\n",
    "reverse = []\n",
    "#This for loop pushes 0,1,2,3,4 onto the origin list\n",
    "for i in range(5):\n",
    "    origin.append(i)\n",
    "#This for loop pops off the items of the origin stack ontp the reverse stack\n",
    "for i in range(len(origin)):\n",
    "    reverse.append(origin.pop())"
   ]
  },
  {
   "cell_type": "code",
   "execution_count": 3,
   "metadata": {},
   "outputs": [
    {
     "data": {
      "text/plain": [
       "[4, 3, 2, 1, 0]"
      ]
     },
     "execution_count": 3,
     "metadata": {},
     "output_type": "execute_result"
    }
   ],
   "source": [
    "reverse"
   ]
  },
  {
   "cell_type": "markdown",
   "metadata": {},
   "source": [
    "In this example, origin is the stack that is having items added and then removed onto the list reverse. "
   ]
  },
  {
   "cell_type": "markdown",
   "metadata": {},
   "source": [
    "# Stack implementation"
   ]
  },
  {
   "cell_type": "markdown",
   "metadata": {},
   "source": [
    "Before we make our own stack Object, lets go over the methods attributed to stacks:\n",
    "\n",
    "Stack() is a built in function that requires no parameters and creates a stack.\n",
    "\n",
    ".push(item) is a  method which adds an item to the top of the stack\n",
    "\n",
    ".pop() removes the top item of the stack and returns it, requires no parameters\n",
    "\n",
    ".peek() returns the top item of the stack, but does not alter the stack at all. Requires no parameters\n",
    "\n",
    ".isEmpty() returns a boolean value to check weather the stack is empty or not. Requires no parameters\n",
    "\n",
    ".size() returns an integer of the number of items in the stack. requires no parameters\n",
    "\n",
    "NOw, lets make the stack"
   ]
  },
  {
   "cell_type": "code",
   "execution_count": 8,
   "metadata": {},
   "outputs": [],
   "source": [
    "class Stack():\n",
    "    \n",
    "    def __init__(self):\n",
    "        self.items = []\n",
    "        \n",
    "    def push(self,item):\n",
    "        return self.items.append(item)\n",
    "    \n",
    "    def pop(self):\n",
    "        return self.items.pop()\n",
    "    \n",
    "    def peek(self):\n",
    "        return self.items[-1]\n",
    "    \n",
    "    def isEmpty(self):\n",
    "        return self.items == []\n",
    "    \n",
    "    def size(self):\n",
    "        return len(self.items)"
   ]
  },
  {
   "cell_type": "code",
   "execution_count": 9,
   "metadata": {},
   "outputs": [],
   "source": [
    "#Creates a blank stack called 's'\n",
    "s = Stack()"
   ]
  },
  {
   "cell_type": "code",
   "execution_count": 10,
   "metadata": {},
   "outputs": [
    {
     "data": {
      "text/plain": [
       "True"
      ]
     },
     "execution_count": 10,
     "metadata": {},
     "output_type": "execute_result"
    }
   ],
   "source": [
    "#Checks if s is empty\n",
    "s.isEmpty()"
   ]
  },
  {
   "cell_type": "code",
   "execution_count": 11,
   "metadata": {},
   "outputs": [],
   "source": [
    "#Pushes 'one' to the top of the stack\n",
    "s.push('one')"
   ]
  },
  {
   "cell_type": "code",
   "execution_count": 12,
   "metadata": {},
   "outputs": [],
   "source": [
    "#Pushes 'two' to the top of the stack\n",
    "s.push('two')"
   ]
  },
  {
   "cell_type": "code",
   "execution_count": 13,
   "metadata": {},
   "outputs": [
    {
     "data": {
      "text/plain": [
       "'two'"
      ]
     },
     "execution_count": 13,
     "metadata": {},
     "output_type": "execute_result"
    }
   ],
   "source": [
    "#Returns the top item of the stack\n",
    "s.peek()"
   ]
  },
  {
   "cell_type": "code",
   "execution_count": 18,
   "metadata": {},
   "outputs": [
    {
     "data": {
      "text/plain": [
       "2"
      ]
     },
     "execution_count": 18,
     "metadata": {},
     "output_type": "execute_result"
    }
   ],
   "source": [
    "#returns the length of the list\n",
    "s.size()"
   ]
  },
  {
   "cell_type": "code",
   "execution_count": 19,
   "metadata": {},
   "outputs": [],
   "source": [
    "s.push('three')"
   ]
  },
  {
   "cell_type": "code",
   "execution_count": 21,
   "metadata": {},
   "outputs": [
    {
     "data": {
      "text/plain": [
       "3"
      ]
     },
     "execution_count": 21,
     "metadata": {},
     "output_type": "execute_result"
    }
   ],
   "source": [
    "s.size()"
   ]
  },
  {
   "cell_type": "code",
   "execution_count": 22,
   "metadata": {},
   "outputs": [
    {
     "data": {
      "text/plain": [
       "'three'"
      ]
     },
     "execution_count": 22,
     "metadata": {},
     "output_type": "execute_result"
    }
   ],
   "source": [
    "#returns the top item of the stack and returns it\n",
    "s.pop()"
   ]
  },
  {
   "cell_type": "code",
   "execution_count": 24,
   "metadata": {},
   "outputs": [
    {
     "data": {
      "text/plain": [
       "2"
      ]
     },
     "execution_count": 24,
     "metadata": {},
     "output_type": "execute_result"
    }
   ],
   "source": [
    "s.size()"
   ]
  },
  {
   "cell_type": "markdown",
   "metadata": {},
   "source": [
    "# Queues"
   ]
  },
  {
   "cell_type": "markdown",
   "metadata": {},
   "source": [
    "A queue is an ordered collection of data where items are added at one end, called the rear, and removed at the other end, called the front. THis is a FIFO system (first in, first out) opposite to a stack, which is a LIFO (last in, first out). ONe example of a queue is a row of dirty dishes waiting to be washed. The washer washes the first one put in the queue first, then the next, so an item added to the end will move up to the top to be washed. This is also called First Come First serve. The term for an item being added to the rear of the queue is Enqueue and the term for an item being removed from the queue at the front is Dequeue."
   ]
  },
  {
   "cell_type": "markdown",
   "metadata": {},
   "source": [
    "# Queue implementation:"
   ]
  },
  {
   "cell_type": "markdown",
   "metadata": {},
   "source": [
    "Before we create a queue class, lets look at the methods attributed to queues:\n",
    "\n",
    "Queue() creates a new queue that is empty. It needs no parameters and returns an empty queue.\n",
    "\n",
    "enqueue(item) adds a new item to the rear of the queue. It needs the item and returns nothing.\n",
    "\n",
    "dequeue() removes the front item from the queue. It needs no parameters and returns the item. The queue is modified.\n",
    "\n",
    "isEmpty() tests to see whether the queue is empty. It needs no parameters and returns a boolean value.\n",
    "\n",
    "size() returns the number of items in the queue. It needs no parameters and returns an integer."
   ]
  },
  {
   "cell_type": "code",
   "execution_count": 15,
   "metadata": {},
   "outputs": [],
   "source": [
    "class Queue():\n",
    "    def __init__(self):\n",
    "        self.items = []\n",
    "    \n",
    "    def enqueue(self,item):\n",
    "        self.items.append(item)\n",
    "        \n",
    "    def dequeue(self):\n",
    "        return self.items.pop(0)\n",
    "    \n",
    "    def isEmpty(self):\n",
    "        return self.items == []\n",
    "    \n",
    "    def size(self):\n",
    "        return len(self.items)"
   ]
  },
  {
   "cell_type": "code",
   "execution_count": 25,
   "metadata": {},
   "outputs": [],
   "source": [
    "q = Queue()"
   ]
  },
  {
   "cell_type": "code",
   "execution_count": 26,
   "metadata": {},
   "outputs": [
    {
     "data": {
      "text/plain": [
       "True"
      ]
     },
     "execution_count": 26,
     "metadata": {},
     "output_type": "execute_result"
    }
   ],
   "source": [
    "q.isEmpty()"
   ]
  },
  {
   "cell_type": "code",
   "execution_count": 27,
   "metadata": {},
   "outputs": [],
   "source": [
    "q.enqueue(1)"
   ]
  },
  {
   "cell_type": "code",
   "execution_count": 28,
   "metadata": {},
   "outputs": [],
   "source": [
    "q.enqueue(2)"
   ]
  },
  {
   "cell_type": "code",
   "execution_count": 29,
   "metadata": {},
   "outputs": [],
   "source": [
    "q.enqueue(3)"
   ]
  },
  {
   "cell_type": "code",
   "execution_count": 30,
   "metadata": {},
   "outputs": [
    {
     "data": {
      "text/plain": [
       "3"
      ]
     },
     "execution_count": 30,
     "metadata": {},
     "output_type": "execute_result"
    }
   ],
   "source": [
    "q.size()"
   ]
  },
  {
   "cell_type": "code",
   "execution_count": 31,
   "metadata": {},
   "outputs": [
    {
     "data": {
      "text/plain": [
       "1"
      ]
     },
     "execution_count": 31,
     "metadata": {},
     "output_type": "execute_result"
    }
   ],
   "source": [
    "q.dequeue()"
   ]
  },
  {
   "cell_type": "code",
   "execution_count": 32,
   "metadata": {},
   "outputs": [
    {
     "data": {
      "text/plain": [
       "2"
      ]
     },
     "execution_count": 32,
     "metadata": {},
     "output_type": "execute_result"
    }
   ],
   "source": [
    "q.size()"
   ]
  },
  {
   "cell_type": "code",
   "execution_count": 33,
   "metadata": {},
   "outputs": [
    {
     "data": {
      "text/plain": [
       "False"
      ]
     },
     "execution_count": 33,
     "metadata": {},
     "output_type": "execute_result"
    }
   ],
   "source": [
    "q.isEmpty()"
   ]
  },
  {
   "cell_type": "markdown",
   "metadata": {},
   "source": [
    "# Deques"
   ]
  },
  {
   "cell_type": "markdown",
   "metadata": {},
   "source": [
    "A deque, or a double ended queue, is a data structure similar to a queue. The main difference is that items can be added and removed on both sides, so it can be either LIFO or FIFO depending on how it is used."
   ]
  },
  {
   "cell_type": "markdown",
   "metadata": {},
   "source": [
    "# Deque Implementation"
   ]
  },
  {
   "cell_type": "markdown",
   "metadata": {},
   "source": [
    "Before we can start, we need to go over the methods attributed to deques:\n",
    "\n",
    "\n",
    "Deque() creates a new deque that is empty. It needs no parameters and returns an empty deque.\n",
    "\n",
    "addFront(item) adds a new item to the front of the deque. It needs the item and returns nothing.\n",
    "\n",
    "addRear(item) adds a new item to the rear of the deque. It needs the item and returns nothing.\n",
    "\n",
    "removeFront() removes the front item from the deque. It needs no parameters and returns the item. The deque is modified.\n",
    "\n",
    "removeRear() removes the rear item from the deque. It needs no parameters and returns the item. The deque is modified.\n",
    "\n",
    "isEmpty() tests to see whether the deque is empty. It needs no parameters and returns a boolean value.\n",
    "\n",
    "size() returns the number of items in the deque. It needs no parameters and returns an integer."
   ]
  },
  {
   "cell_type": "code",
   "execution_count": 3,
   "metadata": {},
   "outputs": [],
   "source": [
    "class Deque():\n",
    "    \n",
    "    def __init__(self):\n",
    "        self.items = []\n",
    "        \n",
    "    def addFront(self,item):\n",
    "        self.items.append(item)\n",
    "    \n",
    "    def addRear(self,item):\n",
    "        self.items.insert(0,item)\n",
    "    \n",
    "    def removeFront(self):\n",
    "        return self.items.pop()\n",
    "    \n",
    "    def removeRear(self):\n",
    "        return self.items.pop(0)\n",
    "        \n",
    "    def isEmpty(self):\n",
    "        return self.items == []\n",
    "    \n",
    "    def size(self):\n",
    "        return len(self.items)\n",
    "        "
   ]
  },
  {
   "cell_type": "code",
   "execution_count": 4,
   "metadata": {},
   "outputs": [],
   "source": [
    "d = Deque()"
   ]
  },
  {
   "cell_type": "code",
   "execution_count": 5,
   "metadata": {},
   "outputs": [
    {
     "data": {
      "text/plain": [
       "True"
      ]
     },
     "execution_count": 5,
     "metadata": {},
     "output_type": "execute_result"
    }
   ],
   "source": [
    "d.isEmpty()"
   ]
  },
  {
   "cell_type": "code",
   "execution_count": 6,
   "metadata": {},
   "outputs": [],
   "source": [
    "d.addRear(1)"
   ]
  },
  {
   "cell_type": "code",
   "execution_count": 7,
   "metadata": {},
   "outputs": [],
   "source": [
    "d.addFront(0)"
   ]
  },
  {
   "cell_type": "code",
   "execution_count": 8,
   "metadata": {},
   "outputs": [],
   "source": [
    "d.addRear(2)"
   ]
  },
  {
   "cell_type": "code",
   "execution_count": 9,
   "metadata": {},
   "outputs": [
    {
     "data": {
      "text/plain": [
       "0"
      ]
     },
     "execution_count": 9,
     "metadata": {},
     "output_type": "execute_result"
    }
   ],
   "source": [
    "d.removeFront()"
   ]
  },
  {
   "cell_type": "code",
   "execution_count": 10,
   "metadata": {},
   "outputs": [
    {
     "data": {
      "text/plain": [
       "2"
      ]
     },
     "execution_count": 10,
     "metadata": {},
     "output_type": "execute_result"
    }
   ],
   "source": [
    "d.removeRear()"
   ]
  },
  {
   "cell_type": "code",
   "execution_count": 11,
   "metadata": {},
   "outputs": [
    {
     "data": {
      "text/plain": [
       "1"
      ]
     },
     "execution_count": 11,
     "metadata": {},
     "output_type": "execute_result"
    }
   ],
   "source": [
    "d.size()"
   ]
  },
  {
   "cell_type": "markdown",
   "metadata": {},
   "source": [
    "# Interview Question: Balanced parenthesis check"
   ]
  },
  {
   "cell_type": "markdown",
   "metadata": {},
   "source": [
    "def balance_check(s):\n",
    "    ns = []\n",
    "    for i in s:\n",
    "        ns.append(i)\n",
    "    o = '[({'\n",
    "    c = '])}'\n",
    "    pairs = [('[',']'),('(',')'),('{','}')]\n",
    "    if len(ns) < 2:\n",
    "        return False\n",
    "    for i in range(len(ns)):\n",
    "        try:\n",
    "            if (ns[i],ns[i+1]) in pairs:\n",
    "                ns.pop(0)\n",
    "                ns.pop(0)\n",
    "        except IndexError:\n",
    "            break\n",
    "    while True:\n",
    "        try:\n",
    "            if (ns[0],ns[-1]) in pairs:\n",
    "                ns.pop(0)\n",
    "                ns.pop(-1)\n",
    "        except IndexError:\n",
    "            break\n",
    "    return len(ns) == 0"
   ]
  },
  {
   "cell_type": "code",
   "execution_count": 1,
   "metadata": {},
   "outputs": [],
   "source": [
    "\n",
    "def balance_check(s):\n",
    "    ns = []\n",
    "    for i in s:\n",
    "        ns.append(i)\n",
    "    pairs = [('[',']'),('(',')'),('{','}')]\n",
    "    isDone = False\n",
    "    while isDone == False:\n",
    "        for i in range(len(ns)):\n",
    "            try:\n",
    "                if (ns[i],ns[i+1]) in pairs:\n",
    "                    print(i)\n",
    "                    print(ns.pop(i+1))\n",
    "                    print(ns.pop(i))\n",
    "                    print(ns)\n",
    "        \n",
    "            except IndexError:\n",
    "                break\n",
    "        c = 0\n",
    "        for i in range(len(ns)):\n",
    "            try:\n",
    "                if (ns[i],ns[i+1]) in pairs:\n",
    "                    break\n",
    "                else:\n",
    "                    c+= 1\n",
    "            except:\n",
    "                return False\n",
    "        if c == len(ns)/2:\n",
    "            isDone = True\n",
    "    return len(ns) == 0\n",
    "    "
   ]
  },
  {
   "cell_type": "code",
   "execution_count": 2,
   "metadata": {},
   "outputs": [
    {
     "name": "stdout",
     "output_type": "stream",
     "text": [
      "0\n",
      "]\n",
      "[\n",
      "['(', ')', '{', '(', '[', '[', '[', ']', ']', ']', ')', '}', '(']\n",
      "6\n",
      "]\n",
      "[\n",
      "['(', ')', '{', '(', '[', '[', ']', ']', ')', '}', '(']\n",
      "0\n",
      ")\n",
      "(\n",
      "['{', '(', '[', '[', ']', ']', ')', '}', '(']\n",
      "3\n",
      "]\n",
      "[\n",
      "['{', '(', '[', ']', ')', '}', '(']\n",
      "2\n",
      "]\n",
      "[\n",
      "['{', '(', ')', '}', '(']\n",
      "1\n",
      ")\n",
      "(\n",
      "['{', '}', '(']\n",
      "0\n",
      "}\n",
      "{\n",
      "['(']\n",
      "5\n",
      ")\n",
      "(\n",
      "['[', '{', '{', '{', '(', ')', '}', '}', '}', ']', '(', '(', '(', ')', ')', ')']\n",
      "12\n",
      ")\n",
      "(\n",
      "['[', '{', '{', '{', '(', ')', '}', '}', '}', ']', '(', '(', ')', ')']\n",
      "4\n",
      ")\n",
      "(\n",
      "['[', '{', '{', '{', '}', '}', '}', ']', '(', '(', ')', ')']\n",
      "9\n",
      ")\n",
      "(\n",
      "['[', '{', '{', '{', '}', '}', '}', ']', '(', ')']\n",
      "3\n",
      "}\n",
      "{\n",
      "['[', '{', '{', '}', '}', ']', '(', ')']\n",
      "6\n",
      ")\n",
      "(\n",
      "['[', '{', '{', '}', '}', ']']\n",
      "2\n",
      "}\n",
      "{\n",
      "['[', '{', '}', ']']\n",
      "1\n",
      "}\n",
      "{\n",
      "['[', ']']\n",
      "0\n",
      "]\n",
      "[\n",
      "[]\n",
      "2\n",
      "]\n",
      "[\n",
      "['[', '[', ']', ')', ']']\n",
      "1\n",
      "]\n",
      "[\n",
      "['[', ')', ']']\n",
      "ALL TEST CASES PASSED\n"
     ]
    }
   ],
   "source": [
    "\"\"\"\n",
    "RUN THIS CELL TO TEST YOUR SOLUTION\n",
    "if you took the time to look through the code and find this comment then you are epic\n",
    "\"\"\"\n",
    "from nose.tools import assert_equal\n",
    "\n",
    "class TestBalanceCheck(object):\n",
    "    \n",
    "    def test(self,sol):\n",
    "        assert_equal(sol('[](){([[[]]])}('),False)\n",
    "        assert_equal(sol('[{{{(())}}}]((()))'),True)\n",
    "        assert_equal(sol('[[[]])]'),False)\n",
    "        print ('ALL TEST CASES PASSED')\n",
    "        \n",
    "# Run Tests\n",
    "\n",
    "t = TestBalanceCheck()\n",
    "t.test(balance_check)"
   ]
  },
  {
   "cell_type": "markdown",
   "metadata": {},
   "source": [
    "# Interview question: Implement a queue using 2 stacks"
   ]
  },
  {
   "cell_type": "code",
   "execution_count": 30,
   "metadata": {},
   "outputs": [],
   "source": [
    "class Queue2Stacks(object):\n",
    "    \n",
    "    def __init__(self):\n",
    "        \n",
    "        # Two Stacks\n",
    "        self.stack1 = []\n",
    "        self.stack2 = []\n",
    "     \n",
    "    def enqueue(self,element):\n",
    "        \n",
    "        # FILL OUT CODE HERE\n",
    "        self.stack1.append(element)\n",
    "        self.stack2 = self.stack1[::-1]\n",
    "    \n",
    "    def dequeue(self):\n",
    "        \n",
    "        # FILL OUT CODE HERE\n",
    "        return self.stack2.pop()  \n"
   ]
  },
  {
   "cell_type": "code",
   "execution_count": 31,
   "metadata": {},
   "outputs": [],
   "source": [
    "qs = Queue2Stacks()"
   ]
  },
  {
   "cell_type": "code",
   "execution_count": 32,
   "metadata": {},
   "outputs": [],
   "source": [
    "for i in range(5):\n",
    "    qs.enqueue(i)"
   ]
  },
  {
   "cell_type": "code",
   "execution_count": 33,
   "metadata": {},
   "outputs": [
    {
     "name": "stdout",
     "output_type": "stream",
     "text": [
      "0\n",
      "1\n",
      "2\n",
      "3\n",
      "4\n"
     ]
    }
   ],
   "source": [
    "for i in range(5):\n",
    "    print(qs.dequeue())"
   ]
  },
  {
   "cell_type": "code",
   "execution_count": null,
   "metadata": {},
   "outputs": [],
   "source": []
  }
 ],
 "metadata": {
  "kernelspec": {
   "display_name": "Python 3",
   "language": "python",
   "name": "python3"
  },
  "language_info": {
   "codemirror_mode": {
    "name": "ipython",
    "version": 3
   },
   "file_extension": ".py",
   "mimetype": "text/x-python",
   "name": "python",
   "nbconvert_exporter": "python",
   "pygments_lexer": "ipython3",
   "version": "3.8.8"
  }
 },
 "nbformat": 4,
 "nbformat_minor": 4
}
