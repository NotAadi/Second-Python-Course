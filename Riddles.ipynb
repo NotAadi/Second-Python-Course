{
 "cells": [
  {
   "cell_type": "markdown",
   "metadata": {},
   "source": [
    "# How to approach riddles and brain teasers:"
   ]
  },
  {
   "cell_type": "markdown",
   "metadata": {},
   "source": [
    "There are 3 types of riddles and brain teasers:\n",
    "\n",
    "### Trick questions\n",
    "\n",
    "These problems require you to have weird prior knowledge about python. These are the worst types of riddles.\n",
    "\n",
    "### Estimation Problems\n",
    "\n",
    "Estimation problems rely on you to do some basic math and computation to find the answer to a seemingly random question, like \"how many happy birthday posts are there on facebook every day\". To solve this, you would first estimate the number of users on facebook, then divide by 365 and then maybe multiply by 2 or 3 because of the number of people saying happy birthday to any given person. \n",
    "\n",
    "### Math Puzzles\n",
    "\n",
    "These ones have roots in math and computer science, and will be the ones most commonly asked in an interview setting. They will require algorithms.\n",
    "\n",
    "\n",
    "## How to approach the problem:\n",
    "\n",
    "Don't panic when you are asked a brain teaser: the interviewer will want to see how you tackle the problem. They won't expect you to immediately know the answer. You should start talking and show the interviewer how you usually approach a problem. \n",
    "\n",
    "\n",
    "In many cases, brain teasers will have connection back to fundamental laws of computer science. If you get stuck, try and simplify the problem. Solve it for a small number of items or a special case and see if you can generalize it.\n",
    "\n",
    "#### Remember to see if you can relate the algorithm down to a fundamental data structure or algorithm! BREAK DOWN THE PROBLEMS!"
   ]
  },
  {
   "cell_type": "markdown",
   "metadata": {},
   "source": [
    "# Riddle 1: Bridge Crossing"
   ]
  },
  {
   "cell_type": "markdown",
   "metadata": {},
   "source": [
    "4 travelers come to a bridge at night. The bridge holds the weight of at most two travelers at a time, and cannot be crossed without a flashlight. The travelers have one flashlight among them. Each traveler walks at a different speed: the first crosses the bridge in 1 minute, the second in 2, the third in 5, and the fourth in 10. If two travelers cross together, they go at the speed of the slower person. What is the least amount of time all the travelers can cross from one side of the bridge to the other?"
   ]
  },
  {
   "cell_type": "markdown",
   "metadata": {},
   "source": [
    "### Solution\n",
    "\n",
    "To solve this problem, you realize that the fastest way is if 5 and 10 travel together with the flashlight to save time. So first 1 and 2 cross with the torch taking 2 minutes, 1 returns with the torch taking 1 minute, hands it off to 5, and then 5 and 10 cross the bridge taking 10 minutes, 2, who is already on the other side, takes the torch, walks back to get 1 and walks to the other side of the bridge with 1, taking 17 minutes.\n",
    "\n",
    "You may think that you should just have 1 as the guide for each crossing, but the trick is to have 5 and 10 cross together."
   ]
  },
  {
   "cell_type": "markdown",
   "metadata": {},
   "source": [
    "# Riddle 2: Coins and a Scale"
   ]
  },
  {
   "cell_type": "markdown",
   "metadata": {},
   "source": [
    "You have 8 coins and a 2 pan scale. All the coins weight the same, except for one which is heavier than the others. Otherwise, the coins are indistinguishable. You cannot assume how much heavier the heavy coin is, though. What is the minimum number of weightings needed to certainly identify the heavy coin?"
   ]
  },
  {
   "cell_type": "markdown",
   "metadata": {},
   "source": [
    "### Solution\n",
    "\n",
    "To solve this problem, you first separate the 8 coins into 3 groups, with 3, 3, and 2 coins each. Weight the 3 and 3 coin groups agains each other: if one is heavier, then the coin must be contained there. If not, then it must be in the group of 2 (these you can just measure against each other). IF one side was heavier, take that side, take 1 of the coins and put it aside and weight the remaining two coins against each other. If one is heavier, that one is the odd one out. If they are the same, then the coin left out is the odd one out."
   ]
  },
  {
   "cell_type": "markdown",
   "metadata": {},
   "source": [
    "# Riddle 3: Egg drop"
   ]
  },
  {
   "cell_type": "markdown",
   "metadata": {},
   "source": [
    "A tower has 100 floors. You've been given two eggs. The eggs are strong enough that they can be dropped from a particular floor in the tower without breaking. You've been tasked to find the highest floor an egg can be dropped without breaking, in as few drops as possible. If an egg is dropped from above its target floor it will break. If it is dropped from that floor or below, it will be intact and you can test drop the egg again on another floor.\n",
    "\n",
    "Show algorithmically how you would go about doing this in as few drops as possible"
   ]
  },
  {
   "cell_type": "markdown",
   "metadata": {},
   "source": [
    "### Solution"
   ]
  },
  {
   "cell_type": "markdown",
   "metadata": {},
   "source": [
    "The first solution that seems to work is to go up by 10 floors each time and drop the egg. If the egg breaks, then go to the floor that was right above the floor you were on previously (e.g. if the egg breaks at 20, you would first go to 11). Then, go to the next floor (if it didnt break at 11, 12, or 13 but broke at 14, you know the hightest possible floor is 13). Note that this is simply a binary search"
   ]
  },
  {
   "cell_type": "markdown",
   "metadata": {},
   "source": [
    "# Riddle 4: Hallway lockers"
   ]
  },
  {
   "cell_type": "markdown",
   "metadata": {},
   "source": [
    "You are in a hallway lined with 100 lockers. You start with one pass and open the lockers, so that the opened lockers are now with their doors opened out. You begin by closing every second locker. Then you go to close every third locker and close it if it is open or open it if it’s closed — we will refer to this as \"toggling\" the lockers. You continue toggling every nth locker on pass number n. After your hundredth pass of the hallway, in which you toggle only locker number 100, how many lockers are open?"
   ]
  },
  {
   "cell_type": "markdown",
   "metadata": {},
   "source": [
    "### Answer\n",
    "\n",
    "You know that a locker can only be open if it was toggled an odd number of times: they all started open, so they will only be open if toggled an odd number of times. We can deduce that for each pass through the lockers, you will open every locker that is a factor of the pass number and 100: for example, if you were doing pass 5, you would only toggle 5, 10, 15, 20, 25, 30, 35, 40 etc etc. Therefore, a locker _n_ would only be open if it had an odd number of factors, and the only numbers with an odd number of factors are __Perfect Squares__. This is becuase, instead of having a \"factor rainbow\" of pairs of factors, they also have an extra factor, which is the square root: after all, you cant put factors of 9 as 1,3,3,9, but instead as 1,3,9. Therefore, only the perfect squares will be open: the perfect squares up to 100 are 1,4,9,16,25,36,49,64,81, and 100, so only 10 lockers will be open"
   ]
  },
  {
   "cell_type": "markdown",
   "metadata": {},
   "source": [
    "# Riddle 5: Water Jugs"
   ]
  },
  {
   "cell_type": "markdown",
   "metadata": {},
   "source": [
    "You are given 2 jugs of water: one jug that measures 3 gallons and one that measures 5 gallons. You are given an unlimited supply of water but no measuring cups. How can you use these tools to get 4 gallons of water in one of the jugs?"
   ]
  },
  {
   "cell_type": "markdown",
   "metadata": {},
   "source": [
    "### Answer\n",
    "\n",
    "Fill the 5 gallon jug with 5 gallons of water, and then pour out water into the 3 gallon jug until it is full. Toss out the 3 gallon jug, and transfer the 2 gallons of water from the 5 gallon jug to the 3 gallon jug. Fill the 5 gallon jug up to the top, but then pour out enough water to fill the 3 gallon jug (this will be only 1 gallon because it already has 2). Now, you will have a 5 gallon jug with 4 gallons of water in it!"
   ]
  },
  {
   "cell_type": "markdown",
   "metadata": {},
   "source": [
    "# Riddle 6: Burning Ropes"
   ]
  },
  {
   "cell_type": "markdown",
   "metadata": {},
   "source": [
    "You have two ropes that both burn in a total of 60 minutes. They are made of different material, so they will burn at different rates. Also, both ropes burn inconsistently. How can you measure out exactly 45 minutes?"
   ]
  },
  {
   "cell_type": "markdown",
   "metadata": {},
   "source": [
    "### Solution"
   ]
  },
  {
   "cell_type": "markdown",
   "metadata": {},
   "source": [
    "Here, the key to the solution is to burn both ends of a rope to have it burn in half the time. What you do is burn the first rope on both ends and the second rope on one end. Once the first rope is fully burned, start burning the second end of the second rope. Basically, it will take 30 minutes for the first rope to fully burn, and the second rope will only have 30 minutes left with one end burning. Then, if you burn the other side, it will become only 15 minutes left. When the second roep is done burning, it will have been 45 minutes"
   ]
  },
  {
   "cell_type": "code",
   "execution_count": null,
   "metadata": {},
   "outputs": [],
   "source": []
  }
 ],
 "metadata": {
  "kernelspec": {
   "display_name": "Python 3",
   "language": "python",
   "name": "python3"
  },
  "language_info": {
   "codemirror_mode": {
    "name": "ipython",
    "version": 3
   },
   "file_extension": ".py",
   "mimetype": "text/x-python",
   "name": "python",
   "nbconvert_exporter": "python",
   "pygments_lexer": "ipython3",
   "version": "3.7.6"
  }
 },
 "nbformat": 4,
 "nbformat_minor": 4
}
